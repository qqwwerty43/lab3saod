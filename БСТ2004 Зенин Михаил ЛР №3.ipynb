{
  "cells": [
    {
      "cell_type": "markdown",
      "id": "db4b50f0",
      "metadata": {
        "id": "db4b50f0"
      },
      "source": [
        "# Лабораторная работа №3\n",
        "## Выполнил студент группы БСТ2004 Зенин Михаил Витальевич"
      ]
    },
    {
      "cell_type": "markdown",
      "id": "annual-symbol",
      "metadata": {
        "id": "annual-symbol"
      },
      "source": [
        "### Оглавление\n",
        "1. [Задание 1](#Задание-№1)\n",
        "2. [Задание 2](#Задание-№2)\n",
        "4. [Вывод](#Вывод)"
      ]
    },
    {
      "cell_type": "markdown",
      "id": "independent-spirit",
      "metadata": {
        "id": "independent-spirit"
      },
      "source": [
        "> Дополнительные модули, использованные при выполнение лабораторной"
      ]
    },
    {
      "cell_type": "code",
      "execution_count": null,
      "id": "4839be2b",
      "metadata": {
        "id": "4839be2b"
      },
      "outputs": [],
      "source": [
        "# Необходим при замере скорости выполнения кода\n",
        "from datetime import datetime as t\n",
        "# Нужен для создания словаря в алг. Бойера-Мура\n",
        "from collections import defaultdict"
      ]
    },
    {
      "cell_type": "markdown",
      "id": "inclusive-motorcycle",
      "metadata": {
        "id": "inclusive-motorcycle"
      },
      "source": [
        "### Задание №1\n",
        "Реализовать методы поиска подстроки в строке. Добавить возможность ввода строки и подстроки с клавиатуры. Предусмотреть возможность существования пробела. Реализовать возможность выбора опции чувствительности или нечувствительности к регистру. Оценить время работы каждого алгоритма поиска и сравнить его со временем работы стандартной функции поиска, используемой в выбранном языке программирования."
      ]
    },
    {
      "cell_type": "markdown",
      "id": "interracial-communication",
      "metadata": {
        "id": "interracial-communication"
      },
      "source": [
        "#### Алгоритм Кнута-Морриса-Пратта"
      ]
    },
    {
      "cell_type": "code",
      "execution_count": null,
      "id": "presidential-level",
      "metadata": {
        "colab": {
          "base_uri": "https://localhost:8080/"
        },
        "id": "presidential-level",
        "outputId": "f9e75d98-6aa6-46a6-9a4a-568756369368"
      },
      "outputs": [
        {
          "output_type": "stream",
          "name": "stdout",
          "text": [
            "Seventy-seven benevolent elephants\n",
            "ev\n",
            "Found pattern at index 1\n",
            "Found pattern at index 9\n",
            "Found pattern at index 17\n",
            "Алгоритм Кнута-Морриса-Пратта: 0.001849 сек\n"
          ]
        }
      ],
      "source": [
        "import time\n",
        "def KnuthMorrisPratt(text, pattern):\n",
        "\n",
        "    # индексирование образца\n",
        "    pattern = list(pattern)\n",
        "\n",
        "    # таблица сдвигов, изначально все сдвиги как в прямом поиске - 1\n",
        "    shifts = [1] * (len(pattern) + 1)\n",
        "    shift = 1\n",
        "    for pos in range(len(pattern)):\n",
        "        while shift <= pos and pattern[pos] != pattern[pos-shift]:\n",
        "            shift += shifts[pos-shift] #cдвиг по максимальному префиксу увеличивается\n",
        "        shifts[pos + 1] = shift\n",
        "\n",
        "    # непосредственно поиск\n",
        "    startPos = 0\n",
        "    matchLen = 0\n",
        "    for c in text:\n",
        "        while matchLen == len(pattern) or matchLen >= 0 and pattern[matchLen] != c: # если дошли до длины образца или не нашли совпадение\n",
        "            startPos += shifts[matchLen] #сдвигаем начальную позицию согласно таблице сдвигов\n",
        "            matchLen -= shifts[matchLen]\n",
        "        matchLen += 1\n",
        "        if matchLen == len(pattern):\n",
        "            print(\"Found pattern at index {}\".format(startPos))\n",
        "\n",
        "text = input()\n",
        "pattern = input()\n",
        "t = time.perf_counter()\n",
        "KnuthMorrisPratt(text, pattern)\n",
        "print(\"Алгоритм Кнута-Морриса-Пратта: {0:.6f} сек\".format ((time.perf_counter() - t)))"
      ]
    },
    {
      "cell_type": "markdown",
      "id": "downtown-option",
      "metadata": {
        "id": "downtown-option"
      },
      "source": [
        "#### Упрощенный алгоритм Бойера-Мура"
      ]
    },
    {
      "cell_type": "code",
      "execution_count": null,
      "id": "respective-reggae",
      "metadata": {
        "colab": {
          "base_uri": "https://localhost:8080/"
        },
        "id": "respective-reggae",
        "outputId": "8905e917-53b6-4c4f-e895-98a1cd033cdb"
      },
      "outputs": [
        {
          "output_type": "stream",
          "name": "stdout",
          "text": [
            "Seventy-seven benevolent elephants\n",
            "ev\n",
            "Pattern found at index 1\n",
            "Алгоритм Бойера-Мура-Хорспула: 0.000754 сек\n",
            "Встроенный алгоритм поиска подстроки: 0.000114 сек\n"
          ]
        }
      ],
      "source": [
        "def BoyerMoore(text, pattern):\n",
        "    lst = list(pattern)\n",
        "    sizePattern = len(lst)\n",
        "    dct = {}\n",
        "    for i in reversed(range(sizePattern-1)):\n",
        "        if dct.get(lst[i]) == None:\n",
        "            dct [lst[i]] = sizePattern - i - 1 #индексация с конца до начала, не считая последнего символа. вносится в словарь\n",
        "    last = lst[sizePattern - 1]\n",
        "    if dct.get(last) == None:\n",
        "        dct [last] = len(lst) # Если последний символ образа уникальный для всего образа, то ему назначается смещение на всю длину образа\n",
        "    dct['*'] = sizePattern #Разделитель, не присутствующий в тексте. На него назначается смещение на всю длину образа\n",
        "\n",
        "    size = len(text)\n",
        "    if size >= sizePattern:\n",
        "        head = sizePattern - 1       # счетчик проверяемого символа в строке\n",
        "\n",
        "        while(head < size): #пока указатель не сдвинется за пределы текста\n",
        "            k = 0\n",
        "            j = 0\n",
        "            flBreak = False\n",
        "            for j in range(sizePattern - 1, -1, -1): #отсчет с конца образа с шагом -1\n",
        "                if text[head - k] != lst[j]:\n",
        "                    if j == sizePattern - 1: #если несовпадающий символ последний в образе\n",
        "                        off = dct[text[head]] if dct.get(text[head], False) else dct['*']  # смещение, если не равен последний символ образа\n",
        "                    else:\n",
        "                        off = dct[lst[j]]   # смещение, если не совпадающий символ не последний в образе\n",
        "\n",
        "                    head += off    # смещение счетчика строки\n",
        "                    flBreak = True  # если несовпадение символа, то flBreak = True\n",
        "                    break\n",
        "\n",
        "                k += 1          # смещение для сравниваемого символа в строке text[head - k], сдвиг влево\n",
        "\n",
        "            if not flBreak:          # если дошли до начала образа, значит, все его символы совпали\n",
        "                print(f\"Pattern found at index {head - k + 1}\")\n",
        "                break\n",
        "        else:\n",
        "            print(\"Pattern not found\")\n",
        "    else:\n",
        "        print(\"Pattern not found\")\n",
        "\n",
        "text = input()\n",
        "pattern = input()\n",
        "t = time.perf_counter()\n",
        "BoyerMoore(text, pattern)\n",
        "print(\"Алгоритм Бойера-Мура-Хорспула: {0:.6f} сек\".format ((time.perf_counter() - t)))\n",
        "t = time.perf_counter()\n",
        "text.find(pattern)\n",
        "print(\"Встроенный алгоритм поиска подстроки: {0:.6f} сек\".format ((time.perf_counter() - t)))"
      ]
    },
    {
      "cell_type": "markdown",
      "id": "hybrid-memorial",
      "metadata": {
        "id": "hybrid-memorial"
      },
      "source": [
        "### Задание №2\n",
        "Написать программу, определяющую, является ли данное\n",
        "расположение «решаемым», то есть можно ли из него за конечное число\n",
        "шагов перейти к правильному. Если это возможно, то необходимо найти хотя\n",
        "бы одно решение - последовательность движений, после которой числа будут\n",
        "расположены в правильном порядке.\n",
        "#### Входные данные: массив чисел, представляющий собой расстановку в\n",
        "Порядке «слева направо, сверху вниз». Число 0 обозначает пустое поле.\n",
        "Например, массив [1, 2, 3, 4, 5, 6, 7, 8, 9, 10, 11, 12, 13, 14, 15, 0] представляет\n",
        "собой «решенную» позицию элементов.\n",
        "#### Выходные данные: если решения нет, то функция должна вернуть\n",
        "Пустой массив []. Если решение есть, то необходимо представить решение —\n",
        "для каждого шага записывается номер передвигаемого на данном шаге\n",
        "элемента. "
      ]
    },
    {
      "cell_type": "code",
      "execution_count": null,
      "id": "eleven-generic",
      "metadata": {
        "colab": {
          "base_uri": "https://localhost:8080/"
        },
        "id": "eleven-generic",
        "outputId": "f8973f92-d871-462d-c2c9-ea45df57e1fd"
      },
      "outputs": [
        {
          "output_type": "stream",
          "name": "stdout",
          "text": [
            "[]\n"
          ]
        }
      ],
      "source": [
        "# Функция считает количество инверсий,\n",
        "# то есть количество случаев, когда некое\n",
        "# a > b , но при этом расположено раньше в переданном массиве\n",
        "N = 4\n",
        "def getInvCount(arr):\n",
        "    inv_count = 0\n",
        "    for i in range(N * N - 1):\n",
        "        for j in range(i + 1,N * N):\n",
        "            # если (arr[i], arr[j]) такое, что\n",
        "            # i < j и arr[i] > arr[j]\n",
        "            if (arr[j] and arr[i] and arr[i] > arr[j]):\n",
        "                inv_count += 1\n",
        "         \n",
        "    return inv_count\n",
        " \n",
        " \n",
        "# находим в каком ряду (от нижнего) находится пустое поле\n",
        "def findXPosition(puzzle):\n",
        "    for i in range (N*N - 1, -1, -1):\n",
        "        if puzzle[i] == 0:\n",
        "            if i < 4:\n",
        "                return 4\n",
        "            if i > 3 and i < 8:\n",
        "                return 3\n",
        "            if i > 7 and i < 12:\n",
        "                return 2\n",
        "            else:\n",
        "                return 1\n",
        " \n",
        " \n",
        "# Возвращает true, если такую расстановку пятнашек можно решить\n",
        "def isSolvable(puzzle):\n",
        "    # подсчитываем количество инверсий\n",
        "    invCount = getInvCount(puzzle)\n",
        " \n",
        "    # если размерность введенного поля нечетная, то возвращаем true\n",
        "    # если количество инверсий четное\n",
        "    if (N & 1):\n",
        "        return ~(invCount & 1)\n",
        " \n",
        "    else:    # если размерность четная\n",
        "        pos = findXPosition(puzzle)\n",
        "        if (pos & 1): # если пустое поле стоит в нечетном ряду (снизу отсчет)\n",
        "            return ~(invCount & 1) #то возвращаем истину, если инверсий четное кличество\n",
        "        else:\n",
        "            return invCount & 1 #то возвращаем истину, если инверсий нечетное кличество\n",
        "     \n",
        " \n",
        "##print(\"Solvable\") if  isSolvable(puzzle1) else print(\"Not Solvable\")\n",
        "puzzle1 = [ # решаемый\n",
        "12, 1, 10, 2,\n",
        "7, 11, 4, 14,\n",
        "5, 0, 9, 15, # 0 означает пустое место\n",
        "8, 13, 6, 3]\n",
        "\n",
        "puzzle = [3, 9, 1, 15, #нерешаемый\n",
        "    14, 11, 4, 6,\n",
        "    13, 0, 10, 12,\n",
        "    2, 7, 8, 5]\n",
        "res = isSolvable(puzzle)\n",
        "if res:\n",
        "    print([1, 2, 3, 4, 5, 6, 7, 8, 9, 10, 11, 12, 13, 14, 15, 0])\n",
        "else:\n",
        "    print([])"
      ]
    },
    {
      "cell_type": "markdown",
      "id": "arbitrary-amazon",
      "metadata": {
        "id": "arbitrary-amazon"
      },
      "source": [
        "### Вывод"
      ]
    },
    {
      "cell_type": "markdown",
      "id": "71bc58bf",
      "metadata": {
        "id": "71bc58bf"
      },
      "source": [
        ""
      ]
    }
  ],
  "metadata": {
    "kernelspec": {
      "display_name": "Python 3 (ipykernel)",
      "language": "python",
      "name": "python3"
    },
    "language_info": {
      "codemirror_mode": {
        "name": "ipython",
        "version": 3
      },
      "file_extension": ".py",
      "mimetype": "text/x-python",
      "name": "python",
      "nbconvert_exporter": "python",
      "pygments_lexer": "ipython3",
      "version": "3.10.2"
    },
    "colab": {
      "name": "Lab3.ipynb",
      "provenance": [],
      "collapsed_sections": []
    }
  },
  "nbformat": 4,
  "nbformat_minor": 5
}